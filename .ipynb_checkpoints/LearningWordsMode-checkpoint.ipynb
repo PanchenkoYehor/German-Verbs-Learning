{
 "cells": [
  {
   "cell_type": "code",
   "execution_count": 8,
   "id": "97eead4f-6731-44f6-ac8b-b53dd8de3f54",
   "metadata": {},
   "outputs": [],
   "source": [
    "import pandas as pd\n",
    "from IPython.display import clear_output\n",
    "import pyperclip\n",
    "import re\n",
    "from tqdm import tqdm"
   ]
  },
  {
   "cell_type": "code",
   "execution_count": 9,
   "id": "068e4622-3990-4011-a167-5c84dae0703d",
   "metadata": {},
   "outputs": [],
   "source": [
    "def GetWords(classes):\n",
    "    words = pd.DataFrame()\n",
    "    for class_name in classes:\n",
    "        words_class = pd.read_csv(class_name)\n",
    "        words = pd.concat([words, words_class])\n",
    "    return words"
   ]
  },
  {
   "cell_type": "code",
   "execution_count": 11,
   "id": "e50b2b22-8821-4385-a796-5acc5ec3a242",
   "metadata": {},
   "outputs": [],
   "source": [
    "words = GetWords([\"Elon-Musk-0-30.csv\", \"Elon-Musk-30-80.csv\"])"
   ]
  },
  {
   "cell_type": "code",
   "execution_count": 12,
   "id": "ab291f43-7f6a-4889-8701-0dbdd4a266a2",
   "metadata": {},
   "outputs": [
    {
     "name": "stderr",
     "output_type": "stream",
     "text": [
      "104it [00:03, 34.37it/s]\n"
     ]
    }
   ],
   "source": [
    "is_exit_pressed = False \n",
    "while not is_exit_pressed:\n",
    "    shuffled = words.sample(words.shape[0])\n",
    "    \n",
    "    for ind, item in tqdm(shuffled.iterrows()):\n",
    "        print('Write word or phrase w.r.t. translation')\n",
    "        print(\"You can use 'answer', 'exit' or 'prev' command\")\n",
    "    \n",
    "        word = list(item.values)\n",
    "        print(word[-1])\n",
    "\n",
    "        tries = [\"\"]\n",
    "        last_hint = 0\n",
    "        while not is_exit_pressed: \n",
    "            custom = [custom_word.strip() for custom_word in re.split('; |, ',input())]\n",
    "            is_correct = custom == word[:1]\n",
    "            if not is_correct:\n",
    "                if custom == [\"answer\"]:\n",
    "                    print(word[:1])\n",
    "                elif custom == [\"exit\"]:\n",
    "                    is_exit_pressed = True\n",
    "                elif custom == [\"prev\"]:\n",
    "                    pyperclip.copy(tries[-1])\n",
    "                elif custom == [\"hint\"]:\n",
    "                    last_hint += 1\n",
    "                    print(word[0][:last_hint])\n",
    "                else:\n",
    "                    print('Incorrect!')\n",
    "                    tries.append(\", \".join(custom))\n",
    "                continue\n",
    "            # print('Correct!')\n",
    "            break\n",
    "        clear_output()"
   ]
  },
  {
   "cell_type": "code",
   "execution_count": 13,
   "id": "ed2df107-e9fe-4ec0-85a7-aca278d4d750",
   "metadata": {},
   "outputs": [
    {
     "name": "stdout",
     "output_type": "stream",
     "text": [
      "On branch main\n",
      "Your branch is up to date with 'origin/main'.\n",
      "\n",
      "Changes not staged for commit:\n",
      "  (use \"git add <file>...\" to update what will be committed)\n",
      "  (use \"git restore <file>...\" to discard changes in working directory)\n",
      "\tmodified:   .ipynb_checkpoints/LearningWordsMode-checkpoint.ipynb\n",
      "\tmodified:   Elon-Musk-0-30.csv\n",
      "\tmodified:   LearningWordsMode.ipynb\n",
      "\n",
      "Untracked files:\n",
      "  (use \"git add <file>...\" to include in what will be committed)\n",
      "\t.ipynb_checkpoints/Elon-Musk-0-30-checkpoint.csv\n",
      "\t.ipynb_checkpoints/Elon-Musk-30-80-checkpoint.csv\n",
      "\tElon-Musk-30-80.csv\n",
      "\n",
      "no changes added to commit (use \"git add\" and/or \"git commit -a\")\n"
     ]
    }
   ],
   "source": [
    "! git status"
   ]
  },
  {
   "cell_type": "code",
   "execution_count": 14,
   "id": "c2beb534-55f0-4412-a5f7-f0ed67c19e74",
   "metadata": {},
   "outputs": [
    {
     "name": "stderr",
     "output_type": "stream",
     "text": [
      "warning: LF will be replaced by CRLF in .ipynb_checkpoints/LearningWordsMode-checkpoint.ipynb.\n",
      "The file will have its original line endings in your working directory\n",
      "warning: LF will be replaced by CRLF in LearningWordsMode.ipynb.\n",
      "The file will have its original line endings in your working directory\n"
     ]
    },
    {
     "name": "stdout",
     "output_type": "stream",
     "text": [
      "On branch main\n",
      "Your branch is up to date with 'origin/main'.\n",
      "\n",
      "Changes to be committed:\n",
      "  (use \"git restore --staged <file>...\" to unstage)\n",
      "\tnew file:   .ipynb_checkpoints/Elon-Musk-0-30-checkpoint.csv\n",
      "\tnew file:   .ipynb_checkpoints/Elon-Musk-30-80-checkpoint.csv\n",
      "\tmodified:   .ipynb_checkpoints/LearningWordsMode-checkpoint.ipynb\n",
      "\tmodified:   Elon-Musk-0-30.csv\n",
      "\tnew file:   Elon-Musk-30-80.csv\n",
      "\tmodified:   LearningWordsMode.ipynb\n",
      "\n"
     ]
    }
   ],
   "source": [
    "! git add .\n",
    "! git status"
   ]
  },
  {
   "cell_type": "code",
   "execution_count": 15,
   "id": "23dac533-2b97-4ffb-a5a1-a8b61f181b61",
   "metadata": {},
   "outputs": [
    {
     "name": "stdout",
     "output_type": "stream",
     "text": [
      "[main 7ee9726] Added dataset + fixed small bugs\n",
      " 6 files changed, 583 insertions(+), 15 deletions(-)\n",
      " create mode 100644 .ipynb_checkpoints/Elon-Musk-0-30-checkpoint.csv\n",
      " create mode 100644 .ipynb_checkpoints/Elon-Musk-30-80-checkpoint.csv\n",
      " create mode 100644 Elon-Musk-30-80.csv\n"
     ]
    }
   ],
   "source": [
    "! git commit -m \"Added dataset + fixed small bugs\""
   ]
  },
  {
   "cell_type": "code",
   "execution_count": 16,
   "id": "60003364-350a-4cda-8763-68c9eaf261ea",
   "metadata": {},
   "outputs": [
    {
     "name": "stderr",
     "output_type": "stream",
     "text": [
      "To https://github.com/PanchenkoYehor/English-Words-Learning.git\n",
      "   c835aa2..7ee9726  main -> main\n"
     ]
    }
   ],
   "source": [
    "! git push"
   ]
  },
  {
   "cell_type": "code",
   "execution_count": 6,
   "id": "6dae0e8d-ff60-43ba-9ae4-e41e208644cc",
   "metadata": {},
   "outputs": [
    {
     "name": "stdout",
     "output_type": "stream",
     "text": [
      "Collecting jupyterlab-git\n",
      "  Downloading jupyterlab_git-0.34.0-py3-none-any.whl (523 kB)\n",
      "Requirement already satisfied: nbformat in c:\\users\\panen\\anaconda3\\lib\\site-packages (from jupyterlab-git) (5.1.3)\n",
      "Requirement already satisfied: pexpect in c:\\users\\panen\\anaconda3\\lib\\site-packages (from jupyterlab-git) (4.8.0)\n",
      "Requirement already satisfied: packaging in c:\\users\\panen\\anaconda3\\lib\\site-packages (from jupyterlab-git) (21.0)\n",
      "Collecting nbdime~=3.1\n",
      "  Downloading nbdime-3.1.1-py2.py3-none-any.whl (5.3 MB)\n",
      "Requirement already satisfied: jupyter-server in c:\\users\\panen\\anaconda3\\lib\\site-packages (from jupyterlab-git) (1.4.1)\n",
      "Requirement already satisfied: pygments in c:\\users\\panen\\anaconda3\\lib\\site-packages (from nbdime~=3.1->jupyterlab-git) (2.10.0)\n",
      "Requirement already satisfied: tornado in c:\\users\\panen\\anaconda3\\lib\\site-packages (from nbdime~=3.1->jupyterlab-git) (6.1)\n",
      "Requirement already satisfied: requests in c:\\users\\panen\\anaconda3\\lib\\site-packages (from nbdime~=3.1->jupyterlab-git) (2.26.0)\n",
      "Requirement already satisfied: jinja2>=2.9 in c:\\users\\panen\\anaconda3\\lib\\site-packages (from nbdime~=3.1->jupyterlab-git) (2.11.3)\n",
      "Collecting jupyter-server-mathjax>=0.2.2\n",
      "  Downloading jupyter_server_mathjax-0.2.3-py3-none-any.whl (3.1 MB)\n",
      "Requirement already satisfied: colorama in c:\\users\\panen\\anaconda3\\lib\\site-packages (from nbdime~=3.1->jupyterlab-git) (0.4.4)\n",
      "Collecting GitPython!=2.1.4,!=2.1.5,!=2.1.6\n",
      "  Downloading GitPython-3.1.25-py3-none-any.whl (180 kB)\n",
      "Requirement already satisfied: nbconvert in c:\\users\\panen\\anaconda3\\lib\\site-packages (from jupyter-server->jupyterlab-git) (6.1.0)\n",
      "Requirement already satisfied: prometheus-client in c:\\users\\panen\\anaconda3\\lib\\site-packages (from jupyter-server->jupyterlab-git) (0.11.0)\n",
      "Requirement already satisfied: terminado>=0.8.3 in c:\\users\\panen\\anaconda3\\lib\\site-packages (from jupyter-server->jupyterlab-git) (0.9.4)\n",
      "Requirement already satisfied: pywin32>=1.0 in c:\\users\\panen\\anaconda3\\lib\\site-packages (from jupyter-server->jupyterlab-git) (228)\n",
      "Requirement already satisfied: pyzmq>=17 in c:\\users\\panen\\anaconda3\\lib\\site-packages (from jupyter-server->jupyterlab-git) (22.2.1)\n",
      "Requirement already satisfied: traitlets>=4.2.1 in c:\\users\\panen\\anaconda3\\lib\\site-packages (from jupyter-server->jupyterlab-git) (5.1.0)\n",
      "Requirement already satisfied: anyio>=2.0.2 in c:\\users\\panen\\anaconda3\\lib\\site-packages (from jupyter-server->jupyterlab-git) (2.2.0)\n",
      "Requirement already satisfied: Send2Trash in c:\\users\\panen\\anaconda3\\lib\\site-packages (from jupyter-server->jupyterlab-git) (1.8.0)\n",
      "Requirement already satisfied: ipython-genutils in c:\\users\\panen\\anaconda3\\lib\\site-packages (from jupyter-server->jupyterlab-git) (0.2.0)\n",
      "Requirement already satisfied: jupyter-client>=6.1.1 in c:\\users\\panen\\anaconda3\\lib\\site-packages (from jupyter-server->jupyterlab-git) (6.1.12)\n",
      "Requirement already satisfied: jupyter-core>=4.4.0 in c:\\users\\panen\\anaconda3\\lib\\site-packages (from jupyter-server->jupyterlab-git) (4.8.1)\n",
      "Requirement already satisfied: jsonschema!=2.5.0,>=2.4 in c:\\users\\panen\\anaconda3\\lib\\site-packages (from nbformat->jupyterlab-git) (3.2.0)\n",
      "Requirement already satisfied: pyparsing>=2.0.2 in c:\\users\\panen\\anaconda3\\lib\\site-packages (from packaging->jupyterlab-git) (3.0.4)\n",
      "Requirement already satisfied: ptyprocess>=0.5 in c:\\users\\panen\\anaconda3\\lib\\site-packages (from pexpect->jupyterlab-git) (0.7.0)\n",
      "Requirement already satisfied: idna>=2.8 in c:\\users\\panen\\anaconda3\\lib\\site-packages (from anyio>=2.0.2->jupyter-server->jupyterlab-git) (3.2)\n",
      "Requirement already satisfied: sniffio>=1.1 in c:\\users\\panen\\anaconda3\\lib\\site-packages (from anyio>=2.0.2->jupyter-server->jupyterlab-git) (1.2.0)\n",
      "Collecting gitdb<5,>=4.0.1\n",
      "  Using cached gitdb-4.0.9-py3-none-any.whl (63 kB)\n",
      "Requirement already satisfied: MarkupSafe>=0.23 in c:\\users\\panen\\anaconda3\\lib\\site-packages (from jinja2>=2.9->nbdime~=3.1->jupyterlab-git) (1.1.1)\n",
      "Requirement already satisfied: setuptools in c:\\users\\panen\\anaconda3\\lib\\site-packages (from jsonschema!=2.5.0,>=2.4->nbformat->jupyterlab-git) (58.0.4)\n",
      "Requirement already satisfied: six>=1.11.0 in c:\\users\\panen\\anaconda3\\lib\\site-packages (from jsonschema!=2.5.0,>=2.4->nbformat->jupyterlab-git) (1.16.0)\n",
      "Requirement already satisfied: pyrsistent>=0.14.0 in c:\\users\\panen\\anaconda3\\lib\\site-packages (from jsonschema!=2.5.0,>=2.4->nbformat->jupyterlab-git) (0.18.0)\n",
      "Requirement already satisfied: attrs>=17.4.0 in c:\\users\\panen\\anaconda3\\lib\\site-packages (from jsonschema!=2.5.0,>=2.4->nbformat->jupyterlab-git) (21.2.0)\n",
      "Requirement already satisfied: python-dateutil>=2.1 in c:\\users\\panen\\anaconda3\\lib\\site-packages (from jupyter-client>=6.1.1->jupyter-server->jupyterlab-git) (2.8.2)\n",
      "Requirement already satisfied: pywinpty>=0.5 in c:\\users\\panen\\anaconda3\\lib\\site-packages (from terminado>=0.8.3->jupyter-server->jupyterlab-git) (0.5.7)\n",
      "Requirement already satisfied: pandocfilters>=1.4.1 in c:\\users\\panen\\anaconda3\\lib\\site-packages (from nbconvert->jupyter-server->jupyterlab-git) (1.4.3)\n",
      "Requirement already satisfied: mistune<2,>=0.8.1 in c:\\users\\panen\\anaconda3\\lib\\site-packages (from nbconvert->jupyter-server->jupyterlab-git) (0.8.4)\n",
      "Requirement already satisfied: nbclient<0.6.0,>=0.5.0 in c:\\users\\panen\\anaconda3\\lib\\site-packages (from nbconvert->jupyter-server->jupyterlab-git) (0.5.3)\n",
      "Requirement already satisfied: bleach in c:\\users\\panen\\anaconda3\\lib\\site-packages (from nbconvert->jupyter-server->jupyterlab-git) (4.0.0)\n",
      "Requirement already satisfied: jupyterlab-pygments in c:\\users\\panen\\anaconda3\\lib\\site-packages (from nbconvert->jupyter-server->jupyterlab-git) (0.1.2)\n",
      "Requirement already satisfied: entrypoints>=0.2.2 in c:\\users\\panen\\anaconda3\\lib\\site-packages (from nbconvert->jupyter-server->jupyterlab-git) (0.3)\n",
      "Requirement already satisfied: testpath in c:\\users\\panen\\anaconda3\\lib\\site-packages (from nbconvert->jupyter-server->jupyterlab-git) (0.5.0)\n",
      "Requirement already satisfied: defusedxml in c:\\users\\panen\\anaconda3\\lib\\site-packages (from nbconvert->jupyter-server->jupyterlab-git) (0.7.1)\n",
      "Requirement already satisfied: certifi>=2017.4.17 in c:\\users\\panen\\anaconda3\\lib\\site-packages (from requests->nbdime~=3.1->jupyterlab-git) (2021.10.8)\n",
      "Requirement already satisfied: charset-normalizer~=2.0.0 in c:\\users\\panen\\anaconda3\\lib\\site-packages (from requests->nbdime~=3.1->jupyterlab-git) (2.0.4)\n",
      "Requirement already satisfied: urllib3<1.27,>=1.21.1 in c:\\users\\panen\\anaconda3\\lib\\site-packages (from requests->nbdime~=3.1->jupyterlab-git) (1.26.7)\n",
      "Collecting smmap<6,>=3.0.1\n",
      "  Using cached smmap-5.0.0-py3-none-any.whl (24 kB)\n",
      "Requirement already satisfied: async-generator in c:\\users\\panen\\anaconda3\\lib\\site-packages (from nbclient<0.6.0,>=0.5.0->nbconvert->jupyter-server->jupyterlab-git) (1.10)\n",
      "Requirement already satisfied: nest-asyncio in c:\\users\\panen\\anaconda3\\lib\\site-packages (from nbclient<0.6.0,>=0.5.0->nbconvert->jupyter-server->jupyterlab-git) (1.5.1)\n",
      "Requirement already satisfied: webencodings in c:\\users\\panen\\anaconda3\\lib\\site-packages (from bleach->nbconvert->jupyter-server->jupyterlab-git) (0.5.1)\n",
      "Installing collected packages: smmap, gitdb, jupyter-server-mathjax, GitPython, nbdime, jupyterlab-git\n",
      "Successfully installed GitPython-3.1.25 gitdb-4.0.9 jupyter-server-mathjax-0.2.3 jupyterlab-git-0.34.0 nbdime-3.1.1 smmap-5.0.0\n"
     ]
    }
   ],
   "source": [
    "! pip install jupyterlab-git"
   ]
  },
  {
   "cell_type": "code",
   "execution_count": 7,
   "id": "9be6bc57-4c1f-49c0-9eef-33e7f322cac4",
   "metadata": {},
   "outputs": [
    {
     "name": "stdout",
     "output_type": "stream",
     "text": [
      "3.2.1\n"
     ]
    }
   ],
   "source": [
    "! jupyter-lab --version"
   ]
  }
 ],
 "metadata": {
  "kernelspec": {
   "display_name": "Python 3 (ipykernel)",
   "language": "python",
   "name": "python3"
  },
  "language_info": {
   "codemirror_mode": {
    "name": "ipython",
    "version": 3
   },
   "file_extension": ".py",
   "mimetype": "text/x-python",
   "name": "python",
   "nbconvert_exporter": "python",
   "pygments_lexer": "ipython3",
   "version": "3.9.7"
  }
 },
 "nbformat": 4,
 "nbformat_minor": 5
}
