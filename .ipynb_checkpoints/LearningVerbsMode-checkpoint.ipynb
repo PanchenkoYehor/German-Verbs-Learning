{
 "cells": [
  {
   "cell_type": "code",
   "execution_count": 33,
   "id": "6a31d831-6153-482e-8017-732cfdc2de51",
   "metadata": {},
   "outputs": [],
   "source": [
    "import pandas as pd\n",
    "from IPython.display import clear_output\n",
    "import pyperclip\n",
    "import re\n",
    "from tqdm import tqdm"
   ]
  },
  {
   "cell_type": "code",
   "execution_count": 17,
   "id": "60f3d8a9-a1b1-43a4-b073-1f81d5bb3e42",
   "metadata": {},
   "outputs": [],
   "source": [
    "classes = [1, 2]"
   ]
  },
  {
   "cell_type": "code",
   "execution_count": 18,
   "id": "c05c666d-642b-4e26-a0f1-7a5705a61d73",
   "metadata": {},
   "outputs": [],
   "source": [
    "def GetVerbs(classes):\n",
    "    classes_names = [\"verbs-\" + str(class_number) + \"-class.csv\" for class_number in classes]\n",
    "    \n",
    "    verbs = pd.DataFrame()\n",
    "    for class_name in classes_names:\n",
    "        verbs_class = pd.read_csv(class_name)\n",
    "        verbs = pd.concat([verbs, verbs_class])\n",
    "    return verbs"
   ]
  },
  {
   "cell_type": "code",
   "execution_count": 19,
   "id": "c9276bc0-058f-4ac2-b997-60234c21b024",
   "metadata": {},
   "outputs": [],
   "source": [
    "verbs = GetVerbs(classes)"
   ]
  },
  {
   "cell_type": "code",
   "execution_count": 34,
   "id": "bf27db5d-8825-4d12-b0d9-25513f6f1cae",
   "metadata": {
    "tags": []
   },
   "outputs": [
    {
     "name": "stderr",
     "output_type": "stream",
     "text": [
      "24it [00:07,  3.09it/s]\n"
     ]
    }
   ],
   "source": [
    "is_exit_pressed = False \n",
    "while not is_exit_pressed:\n",
    "    shuffled = verbs.sample(verbs.shape[0])\n",
    "    \n",
    "    for ind, item in tqdm(shuffled.iterrows()):\n",
    "        print('Write Infinitiv, Prateritum and Partizip II')\n",
    "        print(\"You can use 'answer', 'exit' or 'prev' command\")\n",
    "    \n",
    "        verb = list(item.values)\n",
    "        print(verb[-1])\n",
    "\n",
    "        tries = [\"\"]\n",
    "        while not is_exit_pressed: \n",
    "            custom = [word.strip() for word in re.split('; |, ',input())]\n",
    "            is_correct = custom == verb[:3]\n",
    "            if not is_correct:\n",
    "                if custom == [\"answer\"]:\n",
    "                    print(verb[:3])\n",
    "                elif custom == [\"exit\"]:\n",
    "                    is_exit_pressed = True\n",
    "                elif custom == [\"prev\"]:\n",
    "                    pyperclip.copy(tries[-1])\n",
    "                else:\n",
    "                    print('Incorrect!')\n",
    "                    tries.append(\", \".join(custom))\n",
    "                continue\n",
    "            print('Correct!')\n",
    "            break\n",
    "        clear_output()"
   ]
  },
  {
   "cell_type": "code",
   "execution_count": null,
   "id": "1bce1477-9740-45d7-9100-c0540d52c148",
   "metadata": {},
   "outputs": [],
   "source": []
  }
 ],
 "metadata": {
  "kernelspec": {
   "display_name": "Python 3 (ipykernel)",
   "language": "python",
   "name": "python3"
  },
  "language_info": {
   "codemirror_mode": {
    "name": "ipython",
    "version": 3
   },
   "file_extension": ".py",
   "mimetype": "text/x-python",
   "name": "python",
   "nbconvert_exporter": "python",
   "pygments_lexer": "ipython3",
   "version": "3.9.7"
  }
 },
 "nbformat": 4,
 "nbformat_minor": 5
}
