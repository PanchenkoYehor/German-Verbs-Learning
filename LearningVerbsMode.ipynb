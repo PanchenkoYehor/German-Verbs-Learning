{
 "cells": [
  {
   "cell_type": "code",
   "execution_count": 5,
   "id": "6a31d831-6153-482e-8017-732cfdc2de51",
   "metadata": {},
   "outputs": [],
   "source": [
    "import pandas as pd\n",
    "from IPython.display import clear_output\n",
    "import re"
   ]
  },
  {
   "cell_type": "code",
   "execution_count": 6,
   "id": "60f3d8a9-a1b1-43a4-b073-1f81d5bb3e42",
   "metadata": {},
   "outputs": [],
   "source": [
    "classes = [1, 2]"
   ]
  },
  {
   "cell_type": "code",
   "execution_count": 7,
   "id": "c05c666d-642b-4e26-a0f1-7a5705a61d73",
   "metadata": {},
   "outputs": [],
   "source": [
    "def GetVerbs(classes):\n",
    "    classes_names = [\"verbs-\" + str(class_number) + \"-class.csv\" for class_number in classes]\n",
    "    \n",
    "    verbs = pd.DataFrame()\n",
    "    for class_name in classes_names:\n",
    "        verbs_class = pd.read_csv(class_name)\n",
    "        verbs = pd.concat([verbs, verbs_class])\n",
    "    return verbs"
   ]
  },
  {
   "cell_type": "code",
   "execution_count": 8,
   "id": "c9276bc0-058f-4ac2-b997-60234c21b024",
   "metadata": {},
   "outputs": [],
   "source": [
    "verbs = GetVerbs(classes)"
   ]
  },
  {
   "cell_type": "code",
   "execution_count": 9,
   "id": "bf27db5d-8825-4d12-b0d9-25513f6f1cae",
   "metadata": {
    "tags": []
   },
   "outputs": [],
   "source": [
    "is_exit_pressed = False \n",
    "while not is_exit_pressed:\n",
    "    print('Write Infinitiv, Prateritum and Partizip II')\n",
    "    print(\"You can use 'answer', 'exit' or 'prev' command\")\n",
    "    verb = list(verbs.sample(1).values[0])\n",
    "    print(verb[-1])\n",
    "    \n",
    "    tries = [\"\"]\n",
    "    while not is_exit_pressed: \n",
    "        custom = [word.strip() for word in re.split('; |, ',input())]\n",
    "        is_correct = custom == verb[:3]\n",
    "        if not is_correct:\n",
    "            if custom == [\"answer\"]:\n",
    "                print(verb[:3])\n",
    "            elif custom == [\"exit\"]:\n",
    "                is_exit_pressed = True\n",
    "            elif custom == [\"prev\"]:\n",
    "                pyperclip.copy(tries[-1])\n",
    "            else:\n",
    "                print('Incorrect!')\n",
    "                tries.append(\", \".join(custom))\n",
    "            continue\n",
    "        print('Correct!')\n",
    "        break\n",
    "    clear_output()"
   ]
  }
 ],
 "metadata": {
  "kernelspec": {
   "display_name": "Python 3 (ipykernel)",
   "language": "python",
   "name": "python3"
  },
  "language_info": {
   "codemirror_mode": {
    "name": "ipython",
    "version": 3
   },
   "file_extension": ".py",
   "mimetype": "text/x-python",
   "name": "python",
   "nbconvert_exporter": "python",
   "pygments_lexer": "ipython3",
   "version": "3.9.7"
  }
 },
 "nbformat": 4,
 "nbformat_minor": 5
}
