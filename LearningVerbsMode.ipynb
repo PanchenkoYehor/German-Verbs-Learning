{
 "cells": [
  {
   "cell_type": "code",
   "execution_count": 22,
   "id": "6a31d831-6153-482e-8017-732cfdc2de51",
   "metadata": {},
   "outputs": [],
   "source": [
    "import pandas as pd\n",
    "from IPython.display import clear_output\n",
    "import pyperclip\n",
    "import re\n",
    "from tqdm import tqdm"
   ]
  },
  {
   "cell_type": "code",
   "execution_count": 23,
   "id": "4c64f368-2731-4bbf-b30a-7f0fd455479e",
   "metadata": {},
   "outputs": [],
   "source": [
    "data_folder = 'data/'"
   ]
  },
  {
   "cell_type": "code",
   "execution_count": 24,
   "id": "60f3d8a9-a1b1-43a4-b073-1f81d5bb3e42",
   "metadata": {},
   "outputs": [],
   "source": [
    "files = [\"verbs-2-class.csv\"]"
   ]
  },
  {
   "cell_type": "code",
   "execution_count": 25,
   "id": "c05c666d-642b-4e26-a0f1-7a5705a61d73",
   "metadata": {},
   "outputs": [],
   "source": [
    "def GetVerbs(data_folder, files):\n",
    "    file_paths = [data_folder + file for file in files]\n",
    "    \n",
    "    verbs = pd.DataFrame()\n",
    "    for file_path in file_paths:\n",
    "        verbs_class = pd.read_csv(file_path)\n",
    "        verbs = pd.concat([verbs, verbs_class])\n",
    "    return verbs"
   ]
  },
  {
   "cell_type": "code",
   "execution_count": 30,
   "id": "c9276bc0-058f-4ac2-b997-60234c21b024",
   "metadata": {},
   "outputs": [],
   "source": [
    "verbs = GetVerbs(data_folder, files)"
   ]
  },
  {
   "cell_type": "code",
   "execution_count": null,
   "id": "b3e81055-287e-4a98-b7e4-c2cad76974f5",
   "metadata": {
    "tags": []
   },
   "outputs": [
    {
     "name": "stderr",
     "output_type": "stream",
     "text": [
      "12it [01:54,  7.15s/it]"
     ]
    },
    {
     "name": "stdout",
     "output_type": "stream",
     "text": [
      "Write Infinitiv, Prateritum and Partizip II\n",
      "You can use 'answer', 'exit' or 'prev' command\n",
      "убегать\n"
     ]
    }
   ],
   "source": [
    "is_exit_pressed = False \n",
    "while not is_exit_pressed:\n",
    "    shuffled = verbs.sample(verbs.shape[0])\n",
    "    \n",
    "    for ind, item in tqdm(shuffled.iterrows()):\n",
    "        print('Write Infinitiv, Prateritum and Partizip II')\n",
    "        print(\"You can use 'answer', 'exit' or 'prev' command\")\n",
    "    \n",
    "        verb = list(item.values)\n",
    "        print(verb[-1])\n",
    "\n",
    "        tries = [\"\"]\n",
    "        while not is_exit_pressed: \n",
    "            input_str = input()\n",
    "            custom = [word.strip() for word in re.split(', |\\s+',input_str)]\n",
    "            is_correct = custom == verb[:3]\n",
    "            if not is_correct:\n",
    "                if custom == [\"answer\"]:\n",
    "                    print(verb[:3])\n",
    "                elif custom == [\"exit\"]:\n",
    "                    is_exit_pressed = True\n",
    "                elif custom == [\"prev\"]:\n",
    "                    pyperclip.copy(tries[-1])\n",
    "                else:\n",
    "                    print('Incorrect!')\n",
    "                    tries.append(input_str)\n",
    "                continue\n",
    "            print('Correct!')\n",
    "            break\n",
    "        clear_output()"
   ]
  },
  {
   "cell_type": "code",
   "execution_count": 35,
   "id": "1bce1477-9740-45d7-9100-c0540d52c148",
   "metadata": {},
   "outputs": [
    {
     "name": "stdout",
     "output_type": "stream",
     "text": [
      "On branch main\n",
      "Your branch is up to date with 'origin/main'.\n",
      "\n",
      "Changes not staged for commit:\n",
      "  (use \"git add <file>...\" to update what will be committed)\n",
      "  (use \"git restore <file>...\" to discard changes in working directory)\n",
      "\tmodified:   .ipynb_checkpoints/LearningVerbsMode-checkpoint.ipynb\n",
      "\tmodified:   LearningVerbsMode.ipynb\n",
      "\n",
      "no changes added to commit (use \"git add\" and/or \"git commit -a\")\n"
     ]
    }
   ],
   "source": [
    "! git status"
   ]
  },
  {
   "cell_type": "code",
   "execution_count": 36,
   "id": "9ffd393d-0037-4397-8444-608b8b419f05",
   "metadata": {},
   "outputs": [
    {
     "name": "stderr",
     "output_type": "stream",
     "text": [
      "warning: LF will be replaced by CRLF in .ipynb_checkpoints/LearningVerbsMode-checkpoint.ipynb.\n",
      "The file will have its original line endings in your working directory\n",
      "warning: LF will be replaced by CRLF in LearningVerbsMode.ipynb.\n",
      "The file will have its original line endings in your working directory\n"
     ]
    }
   ],
   "source": [
    "! git add ."
   ]
  },
  {
   "cell_type": "code",
   "execution_count": 37,
   "id": "90f52f4a-df9a-44fb-aa71-a2c40bc0ab9f",
   "metadata": {},
   "outputs": [
    {
     "name": "stdout",
     "output_type": "stream",
     "text": [
      "On branch main\n",
      "Your branch is up to date with 'origin/main'.\n",
      "\n",
      "Changes to be committed:\n",
      "  (use \"git restore --staged <file>...\" to unstage)\n",
      "\tmodified:   .ipynb_checkpoints/LearningVerbsMode-checkpoint.ipynb\n",
      "\tmodified:   LearningVerbsMode.ipynb\n",
      "\n"
     ]
    }
   ],
   "source": [
    "! git status"
   ]
  },
  {
   "cell_type": "code",
   "execution_count": 38,
   "id": "d11eaf3a-d838-4a36-9e81-70b9a22b96e0",
   "metadata": {},
   "outputs": [
    {
     "name": "stdout",
     "output_type": "stream",
     "text": [
      "[main ac1953f] Add tqdm and pseudo-random\n",
      " 2 files changed, 102 insertions(+), 58 deletions(-)\n"
     ]
    }
   ],
   "source": [
    "! git commit -m \"Add tqdm and pseudo-random\""
   ]
  },
  {
   "cell_type": "code",
   "execution_count": 40,
   "id": "b99fec6c-a884-4666-838d-3c96a0e48b2a",
   "metadata": {},
   "outputs": [
    {
     "name": "stderr",
     "output_type": "stream",
     "text": [
      "To https://github.com/PanchenkoYehor/German-Verbs-Learning.git\n",
      "   5f429e2..ac1953f  main -> main\n"
     ]
    }
   ],
   "source": [
    "! git push"
   ]
  }
 ],
 "metadata": {
  "kernelspec": {
   "display_name": "Python 3 (ipykernel)",
   "language": "python",
   "name": "python3"
  },
  "language_info": {
   "codemirror_mode": {
    "name": "ipython",
    "version": 3
   },
   "file_extension": ".py",
   "mimetype": "text/x-python",
   "name": "python",
   "nbconvert_exporter": "python",
   "pygments_lexer": "ipython3",
   "version": "3.9.7"
  }
 },
 "nbformat": 4,
 "nbformat_minor": 5
}
