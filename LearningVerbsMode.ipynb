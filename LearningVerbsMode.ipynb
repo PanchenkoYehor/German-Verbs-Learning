{
 "cells": [
  {
   "cell_type": "code",
   "execution_count": 1,
   "id": "6a31d831-6153-482e-8017-732cfdc2de51",
   "metadata": {},
   "outputs": [],
   "source": [
    "import pandas as pd\n",
    "from IPython.display import clear_output"
   ]
  },
  {
   "cell_type": "code",
   "execution_count": 2,
   "id": "f638f0a5-8696-4483-b7bd-d62c41c382b7",
   "metadata": {},
   "outputs": [
    {
     "data": {
      "text/plain": "  Infinitiv Prateritum  Partizip_2   Translation\n0   bleiben      blieb   geblieben    оставаться\n1    leihen       lieh    geliehen  брать взаймы\n2    meiden       mied    gemieden      избегать\n3  scheiden     schied  geschieden  сепарировать\n4  scheinen     schien  geschienen       светить",
      "text/html": "<div>\n<style scoped>\n    .dataframe tbody tr th:only-of-type {\n        vertical-align: middle;\n    }\n\n    .dataframe tbody tr th {\n        vertical-align: top;\n    }\n\n    .dataframe thead th {\n        text-align: right;\n    }\n</style>\n<table border=\"1\" class=\"dataframe\">\n  <thead>\n    <tr style=\"text-align: right;\">\n      <th></th>\n      <th>Infinitiv</th>\n      <th>Prateritum</th>\n      <th>Partizip_2</th>\n      <th>Translation</th>\n    </tr>\n  </thead>\n  <tbody>\n    <tr>\n      <th>0</th>\n      <td>bleiben</td>\n      <td>blieb</td>\n      <td>geblieben</td>\n      <td>оставаться</td>\n    </tr>\n    <tr>\n      <th>1</th>\n      <td>leihen</td>\n      <td>lieh</td>\n      <td>geliehen</td>\n      <td>брать взаймы</td>\n    </tr>\n    <tr>\n      <th>2</th>\n      <td>meiden</td>\n      <td>mied</td>\n      <td>gemieden</td>\n      <td>избегать</td>\n    </tr>\n    <tr>\n      <th>3</th>\n      <td>scheiden</td>\n      <td>schied</td>\n      <td>geschieden</td>\n      <td>сепарировать</td>\n    </tr>\n    <tr>\n      <th>4</th>\n      <td>scheinen</td>\n      <td>schien</td>\n      <td>geschienen</td>\n      <td>светить</td>\n    </tr>\n  </tbody>\n</table>\n</div>"
     },
     "execution_count": 2,
     "metadata": {},
     "output_type": "execute_result"
    }
   ],
   "source": [
    "verbs_1_class = pd.read_csv(\"verbs-1-class.csv\")\n",
    "verbs_1_class.head()"
   ]
  },
  {
   "cell_type": "code",
   "execution_count": 3,
   "id": "c9276bc0-058f-4ac2-b997-60234c21b024",
   "metadata": {},
   "outputs": [],
   "source": [
    "verbs = verbs_1_class"
   ]
  },
  {
   "cell_type": "code",
   "execution_count": 4,
   "id": "bf27db5d-8825-4d12-b0d9-25513f6f1cae",
   "metadata": {},
   "outputs": [
    {
     "name": "stdout",
     "output_type": "stream",
     "text": [
      "Write Infinitiv, Prateritum and Partizip II\n",
      "заниматься спортом\n",
      "Incorrect!\n",
      "Incorrect!\n",
      "Incorrect!\n",
      "Incorrect!\n"
     ]
    },
    {
     "ename": "AttributeError",
     "evalue": "'list' object has no attribute 'strip'",
     "output_type": "error",
     "traceback": [
      "\u001B[1;31m---------------------------------------------------------------------------\u001B[0m",
      "\u001B[1;31mAttributeError\u001B[0m                            Traceback (most recent call last)",
      "\u001B[1;32m~\\AppData\\Local\\Temp/ipykernel_17616/1874229998.py\u001B[0m in \u001B[0;36m<module>\u001B[1;34m\u001B[0m\n\u001B[0;32m     10\u001B[0m         \u001B[1;32mif\u001B[0m \u001B[1;32mnot\u001B[0m \u001B[0mis_correct\u001B[0m\u001B[1;33m:\u001B[0m\u001B[1;33m\u001B[0m\u001B[1;33m\u001B[0m\u001B[0m\n\u001B[0;32m     11\u001B[0m             \u001B[1;32mif\u001B[0m \u001B[0mcustom\u001B[0m \u001B[1;33m==\u001B[0m \u001B[1;33m[\u001B[0m\u001B[1;34m\"answer\"\u001B[0m\u001B[1;33m]\u001B[0m\u001B[1;33m:\u001B[0m\u001B[1;33m\u001B[0m\u001B[1;33m\u001B[0m\u001B[0m\n\u001B[1;32m---> 12\u001B[1;33m                 \u001B[0mprint\u001B[0m\u001B[1;33m(\u001B[0m\u001B[0mverb\u001B[0m\u001B[1;33m[\u001B[0m\u001B[1;33m:\u001B[0m\u001B[1;36m3\u001B[0m\u001B[1;33m]\u001B[0m\u001B[1;33m.\u001B[0m\u001B[0mstrip\u001B[0m\u001B[1;33m(\u001B[0m\u001B[1;33m)\u001B[0m\u001B[1;33m)\u001B[0m\u001B[1;33m\u001B[0m\u001B[1;33m\u001B[0m\u001B[0m\n\u001B[0m\u001B[0;32m     13\u001B[0m             \u001B[1;32melse\u001B[0m\u001B[1;33m:\u001B[0m\u001B[1;33m\u001B[0m\u001B[1;33m\u001B[0m\u001B[0m\n\u001B[0;32m     14\u001B[0m                 \u001B[0mprint\u001B[0m\u001B[1;33m(\u001B[0m\u001B[1;34m'Incorrect!'\u001B[0m\u001B[1;33m)\u001B[0m\u001B[1;33m\u001B[0m\u001B[1;33m\u001B[0m\u001B[0m\n",
      "\u001B[1;31mAttributeError\u001B[0m: 'list' object has no attribute 'strip'"
     ]
    }
   ],
   "source": [
    "print('Write Infinitiv, Prateritum and Partizip II')\n",
    "while True:\n",
    "    verb = list(verbs.sample(1).values[0])\n",
    "    print(verb[-1])\n",
    "    \n",
    "    while True: \n",
    "        custom = [word.strip() for word in input().split(',')]\n",
    "        is_correct = custom == verb[:3]\n",
    "    \n",
    "        if not is_correct:\n",
    "            if custom == [\"answer\"]:\n",
    "                print(verb[:3].strip())\n",
    "            else:\n",
    "                print('Incorrect!')\n",
    "            continue\n",
    "        print('Correct!')\n",
    "        break\n",
    "    clear_output()"
   ]
  },
  {
   "cell_type": "code",
   "execution_count": 5,
   "id": "42d651a4-be25-48d0-824d-edfe59dd7c37",
   "metadata": {},
   "outputs": [
    {
     "name": "stdout",
     "output_type": "stream",
     "text": [
      "Collecting package metadata (current_repodata.json): ...working... failed\n"
     ]
    },
    {
     "name": "stderr",
     "output_type": "stream",
     "text": [
      "\n",
      "NoWritablePkgsDirError: No writeable pkgs directories configured.\n",
      "  - C:\\Users\\j.gunstone\\.conda\\pkgs\n",
      "\n"
     ]
    }
   ],
   "source": [
    "!conda install -c conda-forge jupyterlab jupyterlab-git\n"
   ]
  }
 ],
 "metadata": {
  "kernelspec": {
   "display_name": "Python 3 (ipykernel)",
   "language": "python",
   "name": "python3"
  },
  "language_info": {
   "codemirror_mode": {
    "name": "ipython",
    "version": 3
   },
   "file_extension": ".py",
   "mimetype": "text/x-python",
   "name": "python",
   "nbconvert_exporter": "python",
   "pygments_lexer": "ipython3",
   "version": "3.9.7"
  }
 },
 "nbformat": 4,
 "nbformat_minor": 5
}